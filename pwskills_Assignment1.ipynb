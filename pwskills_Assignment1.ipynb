{
 "cells": [
  {
   "cell_type": "code",
   "execution_count": 3,
   "id": "b22b98ca-0424-42ea-ae80-5e4920e8ce78",
   "metadata": {},
   "outputs": [
    {
     "name": "stdout",
     "output_type": "stream",
     "text": [
      "pwskills\n",
      "<class 'str'>\n",
      "[1, 2, 3, 'surya', True, (1, 2, 3)]\n",
      "<class 'list'>\n",
      "3.14\n",
      "<class 'float'>\n",
      "(1, 2, 3)\n",
      "<class 'tuple'>\n"
     ]
    }
   ],
   "source": [
    "#Q1. Create one variable containing following type of data:\n",
    "\n",
    "#(i) string\n",
    "my_string = \"pwskills\"\n",
    "print(my_string)\n",
    "print(type(my_string))\n",
    "\n",
    "#(ii) list\n",
    "my_list = [1,2,3,'surya',True,(1,2,3)]\n",
    "print(my_list)\n",
    "print(type(my_list))\n",
    "\n",
    "#(iii) float\n",
    "my_float = 3.14\n",
    "print(my_float)\n",
    "print(type(my_float))\n",
    "\n",
    "#(iv) tuple\n",
    "my_tuple = (1,2,3)\n",
    "print(my_tuple)\n",
    "print(type(my_tuple))"
   ]
  },
  {
   "cell_type": "code",
   "execution_count": null,
   "id": "007451dc-03b6-4a7f-9649-8a6e03a92743",
   "metadata": {},
   "outputs": [],
   "source": [
    "\"\"\"Q2. Given are some following variables containing data:\n",
    "(i) var1 = ‘ ‘\n",
    "(ii) var2 = ‘[ DS , ML , Python]’\n",
    "(iii) var3 = [ ‘DS’ , ’ML’ , ‘Python’ ]\n",
    "(iv) var4 = 1.\n",
    "What will be the data type of the above given variable.\"\"\""
   ]
  },
  {
   "cell_type": "code",
   "execution_count": 4,
   "id": "c9ffcc1a-bd8d-4fc0-b1fa-df3efabe4ecb",
   "metadata": {},
   "outputs": [
    {
     "data": {
      "text/plain": [
       "str"
      ]
     },
     "execution_count": 4,
     "metadata": {},
     "output_type": "execute_result"
    }
   ],
   "source": [
    "var1 = ''\n",
    "type(var1)"
   ]
  },
  {
   "cell_type": "code",
   "execution_count": 5,
   "id": "e8bffa83-35e6-4aa5-b6ac-8f2a4c44b21b",
   "metadata": {},
   "outputs": [
    {
     "data": {
      "text/plain": [
       "str"
      ]
     },
     "execution_count": 5,
     "metadata": {},
     "output_type": "execute_result"
    }
   ],
   "source": [
    "var2 = '[DS,ML,Python]'\n",
    "type(var2)"
   ]
  },
  {
   "cell_type": "code",
   "execution_count": 6,
   "id": "0dcee768-ddfc-4c71-b0cf-82878f0472df",
   "metadata": {},
   "outputs": [
    {
     "data": {
      "text/plain": [
       "list"
      ]
     },
     "execution_count": 6,
     "metadata": {},
     "output_type": "execute_result"
    }
   ],
   "source": [
    "var3 = ['DS','ML','Python']\n",
    "type(var3)"
   ]
  },
  {
   "cell_type": "code",
   "execution_count": 7,
   "id": "2ef34dc3-cb7b-4b58-bdbd-db6ae9ff56b4",
   "metadata": {},
   "outputs": [
    {
     "data": {
      "text/plain": [
       "float"
      ]
     },
     "execution_count": 7,
     "metadata": {},
     "output_type": "execute_result"
    }
   ],
   "source": [
    "var4 = 1.\n",
    "type(var4)"
   ]
  },
  {
   "cell_type": "code",
   "execution_count": null,
   "id": "6484068e-6935-4eb1-8246-957d5b124141",
   "metadata": {},
   "outputs": [],
   "source": [
    "\"\"\" Q3. Explain the use of the following operators using an example:\n",
    "(i) /\n",
    "(ii) %\n",
    "(iii) //\n",
    "(iv) ** \"\"\""
   ]
  },
  {
   "cell_type": "code",
   "execution_count": 9,
   "id": "6328e445-2bb1-4648-8181-de2d270cf513",
   "metadata": {},
   "outputs": [],
   "source": [
    "a = 10\n",
    "b = 3"
   ]
  },
  {
   "cell_type": "code",
   "execution_count": 10,
   "id": "2a2de1c8-10e0-44de-abcd-219ba132838a",
   "metadata": {},
   "outputs": [
    {
     "data": {
      "text/plain": [
       "3.3333333333333335"
      ]
     },
     "execution_count": 10,
     "metadata": {},
     "output_type": "execute_result"
    }
   ],
   "source": [
    "#this is for divison\n",
    "a/b"
   ]
  },
  {
   "cell_type": "code",
   "execution_count": 11,
   "id": "6618c315-086a-4f27-b641-bf8aad649c02",
   "metadata": {},
   "outputs": [
    {
     "data": {
      "text/plain": [
       "1"
      ]
     },
     "execution_count": 11,
     "metadata": {},
     "output_type": "execute_result"
    }
   ],
   "source": [
    "#this is for remainder\n",
    "a%b"
   ]
  },
  {
   "cell_type": "code",
   "execution_count": 12,
   "id": "543fe101-9a18-428d-8808-253f4c951352",
   "metadata": {},
   "outputs": [
    {
     "data": {
      "text/plain": [
       "3"
      ]
     },
     "execution_count": 12,
     "metadata": {},
     "output_type": "execute_result"
    }
   ],
   "source": [
    "#this is for floor divison and it gives floor value\n",
    "a//b"
   ]
  },
  {
   "cell_type": "code",
   "execution_count": 13,
   "id": "2f21a154-9d33-4de2-a1b1-d0ab3e2e0a60",
   "metadata": {},
   "outputs": [
    {
     "data": {
      "text/plain": [
       "1000"
      ]
     },
     "execution_count": 13,
     "metadata": {},
     "output_type": "execute_result"
    }
   ],
   "source": [
    "#this is for power of a to b\n",
    "a**b"
   ]
  },
  {
   "cell_type": "code",
   "execution_count": null,
   "id": "3f0d84a4-bec6-42f8-93ef-baf8987f42ea",
   "metadata": {},
   "outputs": [],
   "source": [
    "\"\"\" Q4. Create a list of length 10 of your choice containing multiple types of data. Using for loop print the\n",
    "element and its data type.\"\"\""
   ]
  },
  {
   "cell_type": "code",
   "execution_count": 16,
   "id": "0c123d47-4e86-40c2-a776-9eb9535f45b9",
   "metadata": {},
   "outputs": [
    {
     "data": {
      "text/plain": [
       "[1, 2, 3, 'surya', True, False, (1, 2, 3), [1, 2, 3], 2.0, {1, 2, 3}, 10]"
      ]
     },
     "execution_count": 16,
     "metadata": {},
     "output_type": "execute_result"
    }
   ],
   "source": [
    "list1 = [1,2,3,'surya',True,False,(1,2,3),[1,2,3],2.0,{1,2,3},10]\n",
    "list1"
   ]
  },
  {
   "cell_type": "code",
   "execution_count": 17,
   "id": "5f330202-6e0e-43ae-82ee-2148d8090969",
   "metadata": {},
   "outputs": [
    {
     "name": "stdout",
     "output_type": "stream",
     "text": [
      "1 is a <class 'int'>\n",
      "2 is a <class 'int'>\n",
      "3 is a <class 'int'>\n",
      "surya is a <class 'str'>\n",
      "True is a <class 'bool'>\n",
      "False is a <class 'bool'>\n",
      "(1, 2, 3) is a <class 'tuple'>\n",
      "[1, 2, 3] is a <class 'list'>\n",
      "2.0 is a <class 'float'>\n",
      "{1, 2, 3} is a <class 'set'>\n",
      "10 is a <class 'int'>\n"
     ]
    }
   ],
   "source": [
    "for i in list1:\n",
    "    print(i,\"is a\",type(i))"
   ]
  },
  {
   "cell_type": "code",
   "execution_count": null,
   "id": "a9cb041f-d2e6-48fc-a394-29594d30af5b",
   "metadata": {},
   "outputs": [],
   "source": [
    "\"\"\" Q5. Using a while loop, verify if the number A is purely divisible by number B and if so then how many\n",
    "times it can be divisible.\"\"\""
   ]
  },
  {
   "cell_type": "code",
   "execution_count": null,
   "id": "8bf4eb27-1f29-4c14-8900-fbe6626cfd83",
   "metadata": {},
   "outputs": [],
   "source": []
  },
  {
   "cell_type": "code",
   "execution_count": null,
   "id": "8b9d8797-748b-4825-b7f6-a121deeb3943",
   "metadata": {},
   "outputs": [],
   "source": [
    "\"\"\" Q6. Create a list containing 25 int type data. Using for loop and if-else condition print if the element is\n",
    "divisible by 3 or not.\"\"\""
   ]
  },
  {
   "cell_type": "code",
   "execution_count": 18,
   "id": "9d25ffdb-aecd-4def-a44e-809d79ae38ac",
   "metadata": {},
   "outputs": [
    {
     "name": "stdout",
     "output_type": "stream",
     "text": [
      "[0, 1, 2, 3, 4, 5, 6, 7, 8, 9, 10, 11, 12, 13, 14, 15, 16, 17, 18, 19, 20, 21, 22, 23, 24]\n"
     ]
    }
   ],
   "source": [
    "list2 = list(range(25))\n",
    "print(list2)"
   ]
  },
  {
   "cell_type": "code",
   "execution_count": 19,
   "id": "c4afcbeb-b020-450f-b3f6-39d5518a9ab4",
   "metadata": {},
   "outputs": [
    {
     "data": {
      "text/plain": [
       "25"
      ]
     },
     "execution_count": 19,
     "metadata": {},
     "output_type": "execute_result"
    }
   ],
   "source": [
    "len(list2)"
   ]
  },
  {
   "cell_type": "code",
   "execution_count": 20,
   "id": "782ee0c1-6172-4400-b28c-a4631e1fb7e3",
   "metadata": {},
   "outputs": [
    {
     "name": "stdout",
     "output_type": "stream",
     "text": [
      "0  is divisible by 3\n",
      "1  is not divisible by 3\n",
      "2  is not divisible by 3\n",
      "3  is divisible by 3\n",
      "4  is not divisible by 3\n",
      "5  is not divisible by 3\n",
      "6  is divisible by 3\n",
      "7  is not divisible by 3\n",
      "8  is not divisible by 3\n",
      "9  is divisible by 3\n",
      "10  is not divisible by 3\n",
      "11  is not divisible by 3\n",
      "12  is divisible by 3\n",
      "13  is not divisible by 3\n",
      "14  is not divisible by 3\n",
      "15  is divisible by 3\n",
      "16  is not divisible by 3\n",
      "17  is not divisible by 3\n",
      "18  is divisible by 3\n",
      "19  is not divisible by 3\n",
      "20  is not divisible by 3\n",
      "21  is divisible by 3\n",
      "22  is not divisible by 3\n",
      "23  is not divisible by 3\n",
      "24  is divisible by 3\n"
     ]
    }
   ],
   "source": [
    "for i in list2:\n",
    "    if i%3 == 0:\n",
    "        print(i,\" is divisible by 3\")\n",
    "    else:\n",
    "        print(i,\" is not divisible by 3\")"
   ]
  },
  {
   "cell_type": "code",
   "execution_count": null,
   "id": "f30a135e-bc4f-46bc-a31b-50c05e7f152b",
   "metadata": {},
   "outputs": [],
   "source": [
    "\"\"\" Q7. What do you understand about mutable and immutable data types? Give examples for both showing\n",
    "this property.\"\"\""
   ]
  },
  {
   "cell_type": "markdown",
   "id": "e3842c7d-fb0f-49a9-9ae1-5e38959f709f",
   "metadata": {},
   "source": [
    "A mutable object can be changed after it is created\t\n",
    "Examples : List, Set, Dictionary\t\n",
    "\n",
    "An immutable object cannot be changed after it is created\n",
    "Exg: tuples, int, float, bool, frozenset,string(str)\n"
   ]
  }
 ],
 "metadata": {
  "kernelspec": {
   "display_name": "Python 3 (ipykernel)",
   "language": "python",
   "name": "python3"
  },
  "language_info": {
   "codemirror_mode": {
    "name": "ipython",
    "version": 3
   },
   "file_extension": ".py",
   "mimetype": "text/x-python",
   "name": "python",
   "nbconvert_exporter": "python",
   "pygments_lexer": "ipython3",
   "version": "3.10.8"
  }
 },
 "nbformat": 4,
 "nbformat_minor": 5
}
